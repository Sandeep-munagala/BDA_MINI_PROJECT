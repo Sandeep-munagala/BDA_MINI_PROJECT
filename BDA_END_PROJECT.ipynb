{
 "cells": [
  {
   "cell_type": "code",
   "execution_count": 1,
   "id": "f7c4ee6b",
   "metadata": {},
   "outputs": [
    {
     "name": "stderr",
     "output_type": "stream",
     "text": [
      "24/04/01 12:22:36 WARN Utils: Your hostname, sandeeps-MacBook-Air.local resolves to a loopback address: 127.0.0.1; using 10.145.2.253 instead (on interface en0)\n",
      "24/04/01 12:22:36 WARN Utils: Set SPARK_LOCAL_IP if you need to bind to another address\n",
      "Setting default log level to \"WARN\".\n",
      "To adjust logging level use sc.setLogLevel(newLevel). For SparkR, use setLogLevel(newLevel).\n",
      "24/04/01 12:22:36 WARN NativeCodeLoader: Unable to load native-hadoop library for your platform... using builtin-java classes where applicable\n",
      "                                                                                \r"
     ]
    },
    {
     "name": "stdout",
     "output_type": "stream",
     "text": [
      "+--------------------+----------+-----------+-----+--------+-------+--------------------+-----------+--------------+--------------------+--------------------+--------------+\n",
      "|                 _id|      asin|   category|class| helpful|overall|          reviewText| reviewTime|    reviewerID|        reviewerName|             summary|unixReviewTime|\n",
      "+--------------------+----------+-----------+-----+--------+-------+--------------------+-----------+--------------+--------------------+--------------------+--------------+\n",
      "|{5a13242d741a2384...|0439886341|Electronics|  0.0|  [1, 1]|    3.0|Some of the funct...|07 22, 2013|A2WNBOD3WNDNKT|                 JAL|       Disappointing|    1374451200|\n",
      "|{5a13242d741a2384...|0132793040|Electronics|  1.0|  [1, 1]|    5.0|Corey Barker does...|04 13, 2013| AKM1MP6P0OYPR|Vicki Gibson \"momo4\"|       Very thorough|    1365811200|\n",
      "|{5a13242d741a2384...|0321732944|Electronics|  1.0|  [0, 0]|    5.0|While many beginn...| 07 1, 2012|A2CX7LUOHB2NDG|              Bernie|Adobe Photoshop C...|    1341100800|\n",
      "|{5a13242d741a2384...|0439886341|Electronics|  0.0|  [1, 1]|    1.0|It never worked. ...|04 29, 2013|A2NWSAGRHCP8N5|         bowmans2007| absolutely horrible|    1367193600|\n",
      "|{5a13242d741a2384...|0439886341|Electronics|  0.0|  [4, 4]|    1.0|Do not waste your...|04 18, 2012|A1GI0U4ZRJA8WN|           Truthfull|TERRIBLE DONT WAS...|    1334707200|\n",
      "|{5a13242d741a2384...|0511189877|Electronics|  1.0|  [0, 0]|    5.0|This unit works j...|03 23, 2014|A34ATBPOK6HCHY|    Nancy C. Johnson|         Great piece|    1395532800|\n",
      "|{5a13242d741a2384...|0511189877|Electronics|  1.0|  [0, 0]|    5.0|It is an exact du...|03 22, 2014| A89DO69P0XZ27|     Stephen Schultz|Time Warner cable...|    1395446400|\n",
      "|{5a13242d741a2384...|0511189877|Electronics|  0.0|  [1, 1]|    2.0|This remote, for ...|04 14, 2014|A3J3BRHTDRFJ2G|  EJ Honda \"ejhonda\"| Ergonomic nightmare|    1397433600|\n",
      "|{5a13242d741a2384...|0511189877|Electronics|  1.0|  [0, 1]|    5.0|We had an old Tim...|03 27, 2014|A2TY0BTJOTENPG|          Johnny Exx|Excellent replace...|    1395878400|\n",
      "|{5a13242d741a2384...|0511189877|Electronics|  1.0|  [0, 1]|    5.0|Works on my t.v. ...|05 29, 2014| AZYNQZ94U6VDB|    Terri L. Pittman|             Awesome|    1401321600|\n",
      "|{5a13242d741a2384...|0528881469|Electronics|  1.0|  [0, 0]|    5.0|Love it has every...|07 18, 2014|A1DA3W4GTFXP6O|                NULL|             love it|    1405641600|\n",
      "|{5a13242d741a2384...|0528881469|Electronics|  0.0|  [0, 0]|    1.0|I have owned two ...| 11 5, 2012|A29LPQQDG7LD5J|      Alfred Delgado|       Piece of Junk|    1352073600|\n",
      "|{5a13242d741a2384...|0528881469|Electronics|  1.0|  [0, 0]|    5.0|We got this GPS f...| 06 2, 2013| AO94DHGC771SJ|             amazdnu|     Gotta have GPS!|    1370131200|\n",
      "|{5a13242d741a2384...|0511189877|Electronics|  1.0|  [0, 0]|    5.0|Dog got the old r...|04 14, 2014|A1QGNMC6O1VW39|                  CK|Works Great with ...|    1397433600|\n",
      "|{5a13242d741a2384...|0528881469|Electronics|  0.0|[12, 15]|    1.0|I'm a professiona...|11 25, 2010| AMO214LNFCEI4|     Amazon Customer|   Very Disappointed|    1290643200|\n",
      "|{5a13242d741a2384...|0528881469|Electronics|  1.0|[21, 22]|    4.0|This is a great t...|07 25, 2010|A28B1G1MSJ6OO1|       A. O Sandness|         Great Unit!|    1280016000|\n",
      "|{5a13242d741a2384...|0528881469|Electronics|  0.0|[43, 45]|    3.0|Well, what can I ...| 09 9, 2010|A3N7T0DY83Y4IG|       C. A. Freeman|      1st impression|    1283990400|\n",
      "|{5a13242d741a2384...|0528881469|Electronics|  1.0|  [1, 1]|    4.0|This unit is a fa...|01 12, 2011|A265MKAR2WEH3Y|          doublebunk|Trucker GPS as a ...|    1294790400|\n",
      "|{5a13242d741a2384...|0528881469|Electronics|  0.0|[23, 32]|    2.0|My brother is a t...|06 21, 2010| A2CPBQ5W4OGBX|Dclownfish03 \"Dcl...|New GPS doesn't w...|    1277078400|\n",
      "|{5a13242d741a2384...|0528881469|Electronics|  0.0| [9, 10]|    2.0|Not going to writ...|11 24, 2010|A1H8PY3QHMQQA0|Dave M. Shaw \"mac...|Great grafics, PO...|    1290556800|\n",
      "+--------------------+----------+-----------+-----+--------+-------+--------------------+-----------+--------------+--------------------+--------------------+--------------+\n",
      "only showing top 20 rows\n",
      "\n"
     ]
    }
   ],
   "source": [
    "from pyspark.sql import SparkSession\n",
    "\n",
    "# Create a SparkSession\n",
    "\n",
    "spark = SparkSession.builder \\\n",
    "    .appName(\"Amazon Review Spam Detection\") \\\n",
    "    .config(\"spark.executor.memory\", \"10g\") \\\n",
    "    .config(\"spark.executor.memoryOverhead\", \"10g\") \\\n",
    "    .config(\"spark.driver.memory\", \"10g\") \\\n",
    "    .config(\"spark.default.parallelism\", 200) \\\n",
    "    .getOrCreate()\n",
    "\n",
    "\n",
    "# Load the JSON dataset\n",
    "df = spark.read.json(\"Electronics.json\")\n",
    "# Show the first few rows of the DataFrame\n",
    "df.show()"
   ]
  },
  {
   "cell_type": "code",
   "execution_count": 2,
   "id": "c0016fcb",
   "metadata": {},
   "outputs": [
    {
     "name": "stdout",
     "output_type": "stream",
     "text": [
      "root\n",
      " |-- _id: struct (nullable = true)\n",
      " |    |-- $oid: string (nullable = true)\n",
      " |-- asin: string (nullable = true)\n",
      " |-- category: string (nullable = true)\n",
      " |-- class: double (nullable = true)\n",
      " |-- helpful: array (nullable = true)\n",
      " |    |-- element: long (containsNull = true)\n",
      " |-- overall: double (nullable = true)\n",
      " |-- reviewText: string (nullable = true)\n",
      " |-- reviewTime: string (nullable = true)\n",
      " |-- reviewerID: string (nullable = true)\n",
      " |-- reviewerName: string (nullable = true)\n",
      " |-- summary: string (nullable = true)\n",
      " |-- unixReviewTime: long (nullable = true)\n",
      "\n"
     ]
    }
   ],
   "source": [
    "df.printSchema()"
   ]
  },
  {
   "cell_type": "markdown",
   "id": "435fa1e5",
   "metadata": {},
   "source": [
    "<h3>retrieves distinct labels from a DataFrame column named 'class', then iterates over each label to display the first five rows associated with that label.</h3>"
   ]
  },
  {
   "cell_type": "code",
   "execution_count": 3,
   "id": "0249f6ca",
   "metadata": {},
   "outputs": [
    {
     "name": "stderr",
     "output_type": "stream",
     "text": [
      "                                                                                \r"
     ]
    },
    {
     "name": "stdout",
     "output_type": "stream",
     "text": [
      "+--------------------+----------+-----------+-----+-------+-------+--------------------+-----------+--------------+------------------+--------------------+--------------+\n",
      "|                 _id|      asin|   category|class|helpful|overall|          reviewText| reviewTime|    reviewerID|      reviewerName|             summary|unixReviewTime|\n",
      "+--------------------+----------+-----------+-----+-------+-------+--------------------+-----------+--------------+------------------+--------------------+--------------+\n",
      "|{5a13242d741a2384...|0439886341|Electronics|  0.0| [1, 1]|    3.0|Some of the funct...|07 22, 2013|A2WNBOD3WNDNKT|               JAL|       Disappointing|    1374451200|\n",
      "|{5a13242d741a2384...|0439886341|Electronics|  0.0| [1, 1]|    1.0|It never worked. ...|04 29, 2013|A2NWSAGRHCP8N5|       bowmans2007| absolutely horrible|    1367193600|\n",
      "|{5a13242d741a2384...|0439886341|Electronics|  0.0| [4, 4]|    1.0|Do not waste your...|04 18, 2012|A1GI0U4ZRJA8WN|         Truthfull|TERRIBLE DONT WAS...|    1334707200|\n",
      "|{5a13242d741a2384...|0511189877|Electronics|  0.0| [1, 1]|    2.0|This remote, for ...|04 14, 2014|A3J3BRHTDRFJ2G|EJ Honda \"ejhonda\"| Ergonomic nightmare|    1397433600|\n",
      "|{5a13242d741a2384...|0528881469|Electronics|  0.0| [0, 0]|    1.0|I have owned two ...| 11 5, 2012|A29LPQQDG7LD5J|    Alfred Delgado|       Piece of Junk|    1352073600|\n",
      "+--------------------+----------+-----------+-----+-------+-------+--------------------+-----------+--------------+------------------+--------------------+--------------+\n",
      "only showing top 5 rows\n",
      "\n",
      "+--------------------+----------+-----------+-----+-------+-------+--------------------+-----------+--------------+--------------------+--------------------+--------------+\n",
      "|                 _id|      asin|   category|class|helpful|overall|          reviewText| reviewTime|    reviewerID|        reviewerName|             summary|unixReviewTime|\n",
      "+--------------------+----------+-----------+-----+-------+-------+--------------------+-----------+--------------+--------------------+--------------------+--------------+\n",
      "|{5a13242d741a2384...|0132793040|Electronics|  1.0| [1, 1]|    5.0|Corey Barker does...|04 13, 2013| AKM1MP6P0OYPR|Vicki Gibson \"momo4\"|       Very thorough|    1365811200|\n",
      "|{5a13242d741a2384...|0321732944|Electronics|  1.0| [0, 0]|    5.0|While many beginn...| 07 1, 2012|A2CX7LUOHB2NDG|              Bernie|Adobe Photoshop C...|    1341100800|\n",
      "|{5a13242d741a2384...|0511189877|Electronics|  1.0| [0, 0]|    5.0|This unit works j...|03 23, 2014|A34ATBPOK6HCHY|    Nancy C. Johnson|         Great piece|    1395532800|\n",
      "|{5a13242d741a2384...|0511189877|Electronics|  1.0| [0, 0]|    5.0|It is an exact du...|03 22, 2014| A89DO69P0XZ27|     Stephen Schultz|Time Warner cable...|    1395446400|\n",
      "|{5a13242d741a2384...|0511189877|Electronics|  1.0| [0, 1]|    5.0|We had an old Tim...|03 27, 2014|A2TY0BTJOTENPG|          Johnny Exx|Excellent replace...|    1395878400|\n",
      "+--------------------+----------+-----------+-----+-------+-------+--------------------+-----------+--------------+--------------------+--------------------+--------------+\n",
      "only showing top 5 rows\n",
      "\n"
     ]
    }
   ],
   "source": [
    "distinct_labels = df.select('class').distinct().rdd.flatMap(lambda x: x).collect()\n",
    "\n",
    "# for each unique 'label', show a few records\n",
    "for label in distinct_labels:\n",
    "    df.filter(df['class'] == label).show(n=5)  "
   ]
  },
  {
   "cell_type": "markdown",
   "id": "67ba6088",
   "metadata": {},
   "source": [
    "<h1>Data Cleaning</h1>"
   ]
  },
  {
   "cell_type": "markdown",
   "id": "d0b4160f",
   "metadata": {},
   "source": [
    "<h3>Extracting the value of the \"_id\" field within a nested structure, converting it to a string format.<br>\n",
    "Removing curly braces \"{\" and \"}\" characters from the \"_id\" column using regular expressions.<br>\n",
    "Finally, it displays the cleaned DataFrame using the show() method.</h3>"
   ]
  },
  {
   "cell_type": "code",
   "execution_count": 4,
   "id": "085516ef",
   "metadata": {},
   "outputs": [
    {
     "name": "stdout",
     "output_type": "stream",
     "text": [
      "+--------------------+----------+-----------+-----+--------+-------+--------------------+-----------+--------------+--------------------+--------------------+--------------+\n",
      "|                 _id|      asin|   category|class| helpful|overall|          reviewText| reviewTime|    reviewerID|        reviewerName|             summary|unixReviewTime|\n",
      "+--------------------+----------+-----------+-----+--------+-------+--------------------+-----------+--------------+--------------------+--------------------+--------------+\n",
      "|5a13242d741a2384e...|0439886341|Electronics|  0.0|  [1, 1]|    3.0|Some of the funct...|07 22, 2013|A2WNBOD3WNDNKT|                 JAL|       Disappointing|    1374451200|\n",
      "|5a13242d741a2384e...|0132793040|Electronics|  1.0|  [1, 1]|    5.0|Corey Barker does...|04 13, 2013| AKM1MP6P0OYPR|Vicki Gibson \"momo4\"|       Very thorough|    1365811200|\n",
      "|5a13242d741a2384e...|0321732944|Electronics|  1.0|  [0, 0]|    5.0|While many beginn...| 07 1, 2012|A2CX7LUOHB2NDG|              Bernie|Adobe Photoshop C...|    1341100800|\n",
      "|5a13242d741a2384e...|0439886341|Electronics|  0.0|  [1, 1]|    1.0|It never worked. ...|04 29, 2013|A2NWSAGRHCP8N5|         bowmans2007| absolutely horrible|    1367193600|\n",
      "|5a13242d741a2384e...|0439886341|Electronics|  0.0|  [4, 4]|    1.0|Do not waste your...|04 18, 2012|A1GI0U4ZRJA8WN|           Truthfull|TERRIBLE DONT WAS...|    1334707200|\n",
      "|5a13242d741a2384e...|0511189877|Electronics|  1.0|  [0, 0]|    5.0|This unit works j...|03 23, 2014|A34ATBPOK6HCHY|    Nancy C. Johnson|         Great piece|    1395532800|\n",
      "|5a13242d741a2384e...|0511189877|Electronics|  1.0|  [0, 0]|    5.0|It is an exact du...|03 22, 2014| A89DO69P0XZ27|     Stephen Schultz|Time Warner cable...|    1395446400|\n",
      "|5a13242d741a2384e...|0511189877|Electronics|  0.0|  [1, 1]|    2.0|This remote, for ...|04 14, 2014|A3J3BRHTDRFJ2G|  EJ Honda \"ejhonda\"| Ergonomic nightmare|    1397433600|\n",
      "|5a13242d741a2384e...|0511189877|Electronics|  1.0|  [0, 1]|    5.0|We had an old Tim...|03 27, 2014|A2TY0BTJOTENPG|          Johnny Exx|Excellent replace...|    1395878400|\n",
      "|5a13242d741a2384e...|0511189877|Electronics|  1.0|  [0, 1]|    5.0|Works on my t.v. ...|05 29, 2014| AZYNQZ94U6VDB|    Terri L. Pittman|             Awesome|    1401321600|\n",
      "|5a13242d741a2384e...|0528881469|Electronics|  1.0|  [0, 0]|    5.0|Love it has every...|07 18, 2014|A1DA3W4GTFXP6O|                NULL|             love it|    1405641600|\n",
      "|5a13242d741a2384e...|0528881469|Electronics|  0.0|  [0, 0]|    1.0|I have owned two ...| 11 5, 2012|A29LPQQDG7LD5J|      Alfred Delgado|       Piece of Junk|    1352073600|\n",
      "|5a13242d741a2384e...|0528881469|Electronics|  1.0|  [0, 0]|    5.0|We got this GPS f...| 06 2, 2013| AO94DHGC771SJ|             amazdnu|     Gotta have GPS!|    1370131200|\n",
      "|5a13242d741a2384e...|0511189877|Electronics|  1.0|  [0, 0]|    5.0|Dog got the old r...|04 14, 2014|A1QGNMC6O1VW39|                  CK|Works Great with ...|    1397433600|\n",
      "|5a13242d741a2384e...|0528881469|Electronics|  0.0|[12, 15]|    1.0|I'm a professiona...|11 25, 2010| AMO214LNFCEI4|     Amazon Customer|   Very Disappointed|    1290643200|\n",
      "|5a13242d741a2384e...|0528881469|Electronics|  1.0|[21, 22]|    4.0|This is a great t...|07 25, 2010|A28B1G1MSJ6OO1|       A. O Sandness|         Great Unit!|    1280016000|\n",
      "|5a13242d741a2384e...|0528881469|Electronics|  0.0|[43, 45]|    3.0|Well, what can I ...| 09 9, 2010|A3N7T0DY83Y4IG|       C. A. Freeman|      1st impression|    1283990400|\n",
      "|5a13242d741a2384e...|0528881469|Electronics|  1.0|  [1, 1]|    4.0|This unit is a fa...|01 12, 2011|A265MKAR2WEH3Y|          doublebunk|Trucker GPS as a ...|    1294790400|\n",
      "|5a13242d741a2384e...|0528881469|Electronics|  0.0|[23, 32]|    2.0|My brother is a t...|06 21, 2010| A2CPBQ5W4OGBX|Dclownfish03 \"Dcl...|New GPS doesn't w...|    1277078400|\n",
      "|5a13242d741a2384e...|0528881469|Electronics|  0.0| [9, 10]|    2.0|Not going to writ...|11 24, 2010|A1H8PY3QHMQQA0|Dave M. Shaw \"mac...|Great grafics, PO...|    1290556800|\n",
      "+--------------------+----------+-----------+-----+--------+-------+--------------------+-----------+--------------+--------------------+--------------------+--------------+\n",
      "only showing top 20 rows\n",
      "\n"
     ]
    }
   ],
   "source": [
    "from pyspark.sql.functions import col\n",
    "from pyspark.sql.functions import regexp_replace\n",
    "\n",
    "\n",
    "cleaned_df = df.withColumn(\"_id\", col(\"_id\").getField(\"$oid\"))\n",
    "cleaned_df = cleaned_df.withColumn(\"_id\", regexp_replace(col(\"_id\"), \"[{}]\", \"\"))\n",
    "\n",
    "cleaned_df.show()"
   ]
  },
  {
   "cell_type": "code",
   "execution_count": 5,
   "id": "6f0d494d",
   "metadata": {},
   "outputs": [
    {
     "name": "stdout",
     "output_type": "stream",
     "text": [
      "root\n",
      " |-- _id: string (nullable = true)\n",
      " |-- asin: string (nullable = true)\n",
      " |-- category: string (nullable = true)\n",
      " |-- class: double (nullable = true)\n",
      " |-- helpful: array (nullable = true)\n",
      " |    |-- element: long (containsNull = true)\n",
      " |-- overall: double (nullable = true)\n",
      " |-- reviewText: string (nullable = true)\n",
      " |-- reviewTime: string (nullable = true)\n",
      " |-- reviewerID: string (nullable = true)\n",
      " |-- reviewerName: string (nullable = true)\n",
      " |-- summary: string (nullable = true)\n",
      " |-- unixReviewTime: long (nullable = true)\n",
      "\n"
     ]
    }
   ],
   "source": [
    "cleaned_df.printSchema()"
   ]
  },
  {
   "cell_type": "markdown",
   "id": "99feb12a",
   "metadata": {},
   "source": [
    "<h3>Dropping the colummn category</h3>"
   ]
  },
  {
   "cell_type": "code",
   "execution_count": 6,
   "id": "1098ac04",
   "metadata": {},
   "outputs": [
    {
     "name": "stdout",
     "output_type": "stream",
     "text": [
      "+--------------------+----------+-----+--------+-------+--------------------+-----------+--------------+--------------------+--------------------+--------------+\n",
      "|                 _id|      asin|class| helpful|overall|          reviewText| reviewTime|    reviewerID|        reviewerName|             summary|unixReviewTime|\n",
      "+--------------------+----------+-----+--------+-------+--------------------+-----------+--------------+--------------------+--------------------+--------------+\n",
      "|5a13242d741a2384e...|0439886341|  0.0|  [1, 1]|    3.0|Some of the funct...|07 22, 2013|A2WNBOD3WNDNKT|                 JAL|       Disappointing|    1374451200|\n",
      "|5a13242d741a2384e...|0132793040|  1.0|  [1, 1]|    5.0|Corey Barker does...|04 13, 2013| AKM1MP6P0OYPR|Vicki Gibson \"momo4\"|       Very thorough|    1365811200|\n",
      "|5a13242d741a2384e...|0321732944|  1.0|  [0, 0]|    5.0|While many beginn...| 07 1, 2012|A2CX7LUOHB2NDG|              Bernie|Adobe Photoshop C...|    1341100800|\n",
      "|5a13242d741a2384e...|0439886341|  0.0|  [1, 1]|    1.0|It never worked. ...|04 29, 2013|A2NWSAGRHCP8N5|         bowmans2007| absolutely horrible|    1367193600|\n",
      "|5a13242d741a2384e...|0439886341|  0.0|  [4, 4]|    1.0|Do not waste your...|04 18, 2012|A1GI0U4ZRJA8WN|           Truthfull|TERRIBLE DONT WAS...|    1334707200|\n",
      "|5a13242d741a2384e...|0511189877|  1.0|  [0, 0]|    5.0|This unit works j...|03 23, 2014|A34ATBPOK6HCHY|    Nancy C. Johnson|         Great piece|    1395532800|\n",
      "|5a13242d741a2384e...|0511189877|  1.0|  [0, 0]|    5.0|It is an exact du...|03 22, 2014| A89DO69P0XZ27|     Stephen Schultz|Time Warner cable...|    1395446400|\n",
      "|5a13242d741a2384e...|0511189877|  0.0|  [1, 1]|    2.0|This remote, for ...|04 14, 2014|A3J3BRHTDRFJ2G|  EJ Honda \"ejhonda\"| Ergonomic nightmare|    1397433600|\n",
      "|5a13242d741a2384e...|0511189877|  1.0|  [0, 1]|    5.0|We had an old Tim...|03 27, 2014|A2TY0BTJOTENPG|          Johnny Exx|Excellent replace...|    1395878400|\n",
      "|5a13242d741a2384e...|0511189877|  1.0|  [0, 1]|    5.0|Works on my t.v. ...|05 29, 2014| AZYNQZ94U6VDB|    Terri L. Pittman|             Awesome|    1401321600|\n",
      "|5a13242d741a2384e...|0528881469|  1.0|  [0, 0]|    5.0|Love it has every...|07 18, 2014|A1DA3W4GTFXP6O|                NULL|             love it|    1405641600|\n",
      "|5a13242d741a2384e...|0528881469|  0.0|  [0, 0]|    1.0|I have owned two ...| 11 5, 2012|A29LPQQDG7LD5J|      Alfred Delgado|       Piece of Junk|    1352073600|\n",
      "|5a13242d741a2384e...|0528881469|  1.0|  [0, 0]|    5.0|We got this GPS f...| 06 2, 2013| AO94DHGC771SJ|             amazdnu|     Gotta have GPS!|    1370131200|\n",
      "|5a13242d741a2384e...|0511189877|  1.0|  [0, 0]|    5.0|Dog got the old r...|04 14, 2014|A1QGNMC6O1VW39|                  CK|Works Great with ...|    1397433600|\n",
      "|5a13242d741a2384e...|0528881469|  0.0|[12, 15]|    1.0|I'm a professiona...|11 25, 2010| AMO214LNFCEI4|     Amazon Customer|   Very Disappointed|    1290643200|\n",
      "|5a13242d741a2384e...|0528881469|  1.0|[21, 22]|    4.0|This is a great t...|07 25, 2010|A28B1G1MSJ6OO1|       A. O Sandness|         Great Unit!|    1280016000|\n",
      "|5a13242d741a2384e...|0528881469|  0.0|[43, 45]|    3.0|Well, what can I ...| 09 9, 2010|A3N7T0DY83Y4IG|       C. A. Freeman|      1st impression|    1283990400|\n",
      "|5a13242d741a2384e...|0528881469|  1.0|  [1, 1]|    4.0|This unit is a fa...|01 12, 2011|A265MKAR2WEH3Y|          doublebunk|Trucker GPS as a ...|    1294790400|\n",
      "|5a13242d741a2384e...|0528881469|  0.0|[23, 32]|    2.0|My brother is a t...|06 21, 2010| A2CPBQ5W4OGBX|Dclownfish03 \"Dcl...|New GPS doesn't w...|    1277078400|\n",
      "|5a13242d741a2384e...|0528881469|  0.0| [9, 10]|    2.0|Not going to writ...|11 24, 2010|A1H8PY3QHMQQA0|Dave M. Shaw \"mac...|Great grafics, PO...|    1290556800|\n",
      "+--------------------+----------+-----+--------+-------+--------------------+-----------+--------------+--------------------+--------------------+--------------+\n",
      "only showing top 20 rows\n",
      "\n"
     ]
    }
   ],
   "source": [
    "cleaned_df = cleaned_df.drop( 'category')\n",
    "cleaned_df.show()"
   ]
  },
  {
   "cell_type": "markdown",
   "id": "1ea066f4",
   "metadata": {},
   "source": [
    "<h3>Renames the \"overall\" column to \"productRating\".<br>\n",
    "Renames the \"_id\" column to \"id\".</h3>"
   ]
  },
  {
   "cell_type": "code",
   "execution_count": 7,
   "id": "5333ca6a",
   "metadata": {},
   "outputs": [],
   "source": [
    "cleaned_df = cleaned_df.withColumnRenamed(\"overall\", \"productRating\")\\\n",
    "            .withColumnRenamed(\"_id\", \"id\")"
   ]
  },
  {
   "cell_type": "code",
   "execution_count": 8,
   "id": "fd007114",
   "metadata": {},
   "outputs": [
    {
     "name": "stdout",
     "output_type": "stream",
     "text": [
      "+--------------------+----------+-----+--------+-------------+--------------------+-----------+--------------+--------------------+--------------------+--------------+\n",
      "|                  id|      asin|class| helpful|productRating|          reviewText| reviewTime|    reviewerID|        reviewerName|             summary|unixReviewTime|\n",
      "+--------------------+----------+-----+--------+-------------+--------------------+-----------+--------------+--------------------+--------------------+--------------+\n",
      "|5a13242d741a2384e...|0439886341|  0.0|  [1, 1]|          3.0|Some of the funct...|07 22, 2013|A2WNBOD3WNDNKT|                 JAL|       Disappointing|    1374451200|\n",
      "|5a13242d741a2384e...|0132793040|  1.0|  [1, 1]|          5.0|Corey Barker does...|04 13, 2013| AKM1MP6P0OYPR|Vicki Gibson \"momo4\"|       Very thorough|    1365811200|\n",
      "|5a13242d741a2384e...|0321732944|  1.0|  [0, 0]|          5.0|While many beginn...| 07 1, 2012|A2CX7LUOHB2NDG|              Bernie|Adobe Photoshop C...|    1341100800|\n",
      "|5a13242d741a2384e...|0439886341|  0.0|  [1, 1]|          1.0|It never worked. ...|04 29, 2013|A2NWSAGRHCP8N5|         bowmans2007| absolutely horrible|    1367193600|\n",
      "|5a13242d741a2384e...|0439886341|  0.0|  [4, 4]|          1.0|Do not waste your...|04 18, 2012|A1GI0U4ZRJA8WN|           Truthfull|TERRIBLE DONT WAS...|    1334707200|\n",
      "|5a13242d741a2384e...|0511189877|  1.0|  [0, 0]|          5.0|This unit works j...|03 23, 2014|A34ATBPOK6HCHY|    Nancy C. Johnson|         Great piece|    1395532800|\n",
      "|5a13242d741a2384e...|0511189877|  1.0|  [0, 0]|          5.0|It is an exact du...|03 22, 2014| A89DO69P0XZ27|     Stephen Schultz|Time Warner cable...|    1395446400|\n",
      "|5a13242d741a2384e...|0511189877|  0.0|  [1, 1]|          2.0|This remote, for ...|04 14, 2014|A3J3BRHTDRFJ2G|  EJ Honda \"ejhonda\"| Ergonomic nightmare|    1397433600|\n",
      "|5a13242d741a2384e...|0511189877|  1.0|  [0, 1]|          5.0|We had an old Tim...|03 27, 2014|A2TY0BTJOTENPG|          Johnny Exx|Excellent replace...|    1395878400|\n",
      "|5a13242d741a2384e...|0511189877|  1.0|  [0, 1]|          5.0|Works on my t.v. ...|05 29, 2014| AZYNQZ94U6VDB|    Terri L. Pittman|             Awesome|    1401321600|\n",
      "|5a13242d741a2384e...|0528881469|  1.0|  [0, 0]|          5.0|Love it has every...|07 18, 2014|A1DA3W4GTFXP6O|                NULL|             love it|    1405641600|\n",
      "|5a13242d741a2384e...|0528881469|  0.0|  [0, 0]|          1.0|I have owned two ...| 11 5, 2012|A29LPQQDG7LD5J|      Alfred Delgado|       Piece of Junk|    1352073600|\n",
      "|5a13242d741a2384e...|0528881469|  1.0|  [0, 0]|          5.0|We got this GPS f...| 06 2, 2013| AO94DHGC771SJ|             amazdnu|     Gotta have GPS!|    1370131200|\n",
      "|5a13242d741a2384e...|0511189877|  1.0|  [0, 0]|          5.0|Dog got the old r...|04 14, 2014|A1QGNMC6O1VW39|                  CK|Works Great with ...|    1397433600|\n",
      "|5a13242d741a2384e...|0528881469|  0.0|[12, 15]|          1.0|I'm a professiona...|11 25, 2010| AMO214LNFCEI4|     Amazon Customer|   Very Disappointed|    1290643200|\n",
      "|5a13242d741a2384e...|0528881469|  1.0|[21, 22]|          4.0|This is a great t...|07 25, 2010|A28B1G1MSJ6OO1|       A. O Sandness|         Great Unit!|    1280016000|\n",
      "|5a13242d741a2384e...|0528881469|  0.0|[43, 45]|          3.0|Well, what can I ...| 09 9, 2010|A3N7T0DY83Y4IG|       C. A. Freeman|      1st impression|    1283990400|\n",
      "|5a13242d741a2384e...|0528881469|  1.0|  [1, 1]|          4.0|This unit is a fa...|01 12, 2011|A265MKAR2WEH3Y|          doublebunk|Trucker GPS as a ...|    1294790400|\n",
      "|5a13242d741a2384e...|0528881469|  0.0|[23, 32]|          2.0|My brother is a t...|06 21, 2010| A2CPBQ5W4OGBX|Dclownfish03 \"Dcl...|New GPS doesn't w...|    1277078400|\n",
      "|5a13242d741a2384e...|0528881469|  0.0| [9, 10]|          2.0|Not going to writ...|11 24, 2010|A1H8PY3QHMQQA0|Dave M. Shaw \"mac...|Great grafics, PO...|    1290556800|\n",
      "+--------------------+----------+-----+--------+-------------+--------------------+-----------+--------------+--------------------+--------------------+--------------+\n",
      "only showing top 20 rows\n",
      "\n"
     ]
    }
   ],
   "source": [
    "cleaned_df.show()"
   ]
  },
  {
   "cell_type": "markdown",
   "id": "eb1fb93e",
   "metadata": {},
   "source": [
    "<h3>new column named 'reviewUpvotes' to the DataFrame 'cleaned_df' by extracting the first element of the 'helpful' array column</h3>"
   ]
  },
  {
   "cell_type": "code",
   "execution_count": 9,
   "id": "f4a3b7bc",
   "metadata": {},
   "outputs": [
    {
     "name": "stdout",
     "output_type": "stream",
     "text": [
      "+--------------------+----------+-----+--------+-------------+--------------------+-----------+--------------+--------------------+--------------------+--------------+-------------+\n",
      "|                  id|      asin|class| helpful|productRating|          reviewText| reviewTime|    reviewerID|        reviewerName|             summary|unixReviewTime|reviewUpvotes|\n",
      "+--------------------+----------+-----+--------+-------------+--------------------+-----------+--------------+--------------------+--------------------+--------------+-------------+\n",
      "|5a13242d741a2384e...|0439886341|  0.0|  [1, 1]|          3.0|Some of the funct...|07 22, 2013|A2WNBOD3WNDNKT|                 JAL|       Disappointing|    1374451200|            1|\n",
      "|5a13242d741a2384e...|0132793040|  1.0|  [1, 1]|          5.0|Corey Barker does...|04 13, 2013| AKM1MP6P0OYPR|Vicki Gibson \"momo4\"|       Very thorough|    1365811200|            1|\n",
      "|5a13242d741a2384e...|0321732944|  1.0|  [0, 0]|          5.0|While many beginn...| 07 1, 2012|A2CX7LUOHB2NDG|              Bernie|Adobe Photoshop C...|    1341100800|            0|\n",
      "|5a13242d741a2384e...|0439886341|  0.0|  [1, 1]|          1.0|It never worked. ...|04 29, 2013|A2NWSAGRHCP8N5|         bowmans2007| absolutely horrible|    1367193600|            1|\n",
      "|5a13242d741a2384e...|0439886341|  0.0|  [4, 4]|          1.0|Do not waste your...|04 18, 2012|A1GI0U4ZRJA8WN|           Truthfull|TERRIBLE DONT WAS...|    1334707200|            4|\n",
      "|5a13242d741a2384e...|0511189877|  1.0|  [0, 0]|          5.0|This unit works j...|03 23, 2014|A34ATBPOK6HCHY|    Nancy C. Johnson|         Great piece|    1395532800|            0|\n",
      "|5a13242d741a2384e...|0511189877|  1.0|  [0, 0]|          5.0|It is an exact du...|03 22, 2014| A89DO69P0XZ27|     Stephen Schultz|Time Warner cable...|    1395446400|            0|\n",
      "|5a13242d741a2384e...|0511189877|  0.0|  [1, 1]|          2.0|This remote, for ...|04 14, 2014|A3J3BRHTDRFJ2G|  EJ Honda \"ejhonda\"| Ergonomic nightmare|    1397433600|            1|\n",
      "|5a13242d741a2384e...|0511189877|  1.0|  [0, 1]|          5.0|We had an old Tim...|03 27, 2014|A2TY0BTJOTENPG|          Johnny Exx|Excellent replace...|    1395878400|            0|\n",
      "|5a13242d741a2384e...|0511189877|  1.0|  [0, 1]|          5.0|Works on my t.v. ...|05 29, 2014| AZYNQZ94U6VDB|    Terri L. Pittman|             Awesome|    1401321600|            0|\n",
      "|5a13242d741a2384e...|0528881469|  1.0|  [0, 0]|          5.0|Love it has every...|07 18, 2014|A1DA3W4GTFXP6O|                NULL|             love it|    1405641600|            0|\n",
      "|5a13242d741a2384e...|0528881469|  0.0|  [0, 0]|          1.0|I have owned two ...| 11 5, 2012|A29LPQQDG7LD5J|      Alfred Delgado|       Piece of Junk|    1352073600|            0|\n",
      "|5a13242d741a2384e...|0528881469|  1.0|  [0, 0]|          5.0|We got this GPS f...| 06 2, 2013| AO94DHGC771SJ|             amazdnu|     Gotta have GPS!|    1370131200|            0|\n",
      "|5a13242d741a2384e...|0511189877|  1.0|  [0, 0]|          5.0|Dog got the old r...|04 14, 2014|A1QGNMC6O1VW39|                  CK|Works Great with ...|    1397433600|            0|\n",
      "|5a13242d741a2384e...|0528881469|  0.0|[12, 15]|          1.0|I'm a professiona...|11 25, 2010| AMO214LNFCEI4|     Amazon Customer|   Very Disappointed|    1290643200|           12|\n",
      "|5a13242d741a2384e...|0528881469|  1.0|[21, 22]|          4.0|This is a great t...|07 25, 2010|A28B1G1MSJ6OO1|       A. O Sandness|         Great Unit!|    1280016000|           21|\n",
      "|5a13242d741a2384e...|0528881469|  0.0|[43, 45]|          3.0|Well, what can I ...| 09 9, 2010|A3N7T0DY83Y4IG|       C. A. Freeman|      1st impression|    1283990400|           43|\n",
      "|5a13242d741a2384e...|0528881469|  1.0|  [1, 1]|          4.0|This unit is a fa...|01 12, 2011|A265MKAR2WEH3Y|          doublebunk|Trucker GPS as a ...|    1294790400|            1|\n",
      "|5a13242d741a2384e...|0528881469|  0.0|[23, 32]|          2.0|My brother is a t...|06 21, 2010| A2CPBQ5W4OGBX|Dclownfish03 \"Dcl...|New GPS doesn't w...|    1277078400|           23|\n",
      "|5a13242d741a2384e...|0528881469|  0.0| [9, 10]|          2.0|Not going to writ...|11 24, 2010|A1H8PY3QHMQQA0|Dave M. Shaw \"mac...|Great grafics, PO...|    1290556800|            9|\n",
      "+--------------------+----------+-----+--------+-------------+--------------------+-----------+--------------+--------------------+--------------------+--------------+-------------+\n",
      "only showing top 20 rows\n",
      "\n"
     ]
    }
   ],
   "source": [
    "cleaned_df = cleaned_df.withColumn('reviewUpvotes', col('helpful')[0])\n",
    "cleaned_df.show()"
   ]
  },
  {
   "cell_type": "markdown",
   "id": "bafe2481",
   "metadata": {},
   "source": [
    "<h3>a user-defined function (helpful_ratio) to calculate the helpfulness ratio based on the values of the 'helpful' array column. Then, it registers this function as a User Defined Function (UDF) named ratio_udf. Finally, it applies this UDF to the 'helpful' column in the DataFrame cleaned_df to calculate the helpfulness ratio and replaces the original 'helpful' column with the calculated values.</h3>"
   ]
  },
  {
   "cell_type": "code",
   "execution_count": 10,
   "id": "0da7d14a",
   "metadata": {},
   "outputs": [],
   "source": [
    "from pyspark.sql.types import FloatType\n",
    "from pyspark.sql.functions import udf\n",
    "\n",
    "def helpful_ratio(helpful):\n",
    "    try:\n",
    "        return (helpful[0] / helpful[1])*100\n",
    "    except ZeroDivisionError:\n",
    "        return 0.0  # or any other value that makes sense in the context\n",
    "    except:\n",
    "        return None\n",
    "\n",
    "# UDF registration\n",
    "ratio_udf = udf(helpful_ratio, FloatType())\n",
    "\n",
    "# Apply the UDF to the DataFrame\n",
    "cleaned_df =  cleaned_df.withColumn('helpful', ratio_udf(col('helpful')))\n"
   ]
  },
  {
   "cell_type": "code",
   "execution_count": 11,
   "id": "dfd09356",
   "metadata": {},
   "outputs": [],
   "source": [
    "cleaned_df =cleaned_df.withColumnRenamed(\"helpful\", \"helpfulTotalRatio\")"
   ]
  },
  {
   "cell_type": "code",
   "execution_count": 12,
   "id": "8fac4f3c",
   "metadata": {},
   "outputs": [
    {
     "data": {
      "text/plain": [
       "['id',\n",
       " 'asin',\n",
       " 'class',\n",
       " 'helpfulTotalRatio',\n",
       " 'productRating',\n",
       " 'reviewText',\n",
       " 'reviewTime',\n",
       " 'reviewerID',\n",
       " 'reviewerName',\n",
       " 'summary',\n",
       " 'unixReviewTime',\n",
       " 'reviewUpvotes']"
      ]
     },
     "execution_count": 12,
     "metadata": {},
     "output_type": "execute_result"
    }
   ],
   "source": [
    "cleaned_df.columns"
   ]
  },
  {
   "cell_type": "markdown",
   "id": "b1ba5a2d",
   "metadata": {},
   "source": [
    "<h3>Converting the values in the \"reviewText\" column to lowercase.\n",
    "Removing any non-alphanumeric characters (except whitespace) from the \"reviewText\" column using regular expressions.</h3>"
   ]
  },
  {
   "cell_type": "code",
   "execution_count": 13,
   "id": "53bcfe52",
   "metadata": {},
   "outputs": [],
   "source": [
    "from pyspark.sql.functions import col, lower, regexp_replace\n",
    "\n",
    "cleaned_df = cleaned_df.withColumn(\"reviewText\", lower(col(\"reviewText\")))\\\n",
    "                 .withColumn(\"reviewText\", regexp_replace(col(\"reviewText\"), \"[^\\w\\s]\", \"\"))"
   ]
  },
  {
   "cell_type": "markdown",
   "id": "1b84fb63",
   "metadata": {},
   "source": [
    "<h3>Converting the values in the \"summary\" column to lowercase.\n",
    "Removing any non-alphanumeric characters (except whitespace) from the \"summary\" column using regular expressions.</h3>"
   ]
  },
  {
   "cell_type": "code",
   "execution_count": 14,
   "id": "3fa0ebc8",
   "metadata": {},
   "outputs": [],
   "source": [
    "cleaned_df = cleaned_df.withColumn(\"summary\", lower(col(\"summary\")))\\\n",
    "                 .withColumn(\"summary\", regexp_replace(col(\"summary\"), \"[^\\w\\s]\", \"\"))"
   ]
  },
  {
   "cell_type": "code",
   "execution_count": 15,
   "id": "21c6e184",
   "metadata": {},
   "outputs": [
    {
     "name": "stdout",
     "output_type": "stream",
     "text": [
      "+--------------------+----------+-----+-----------------+-------------+--------------------+-----------+--------------+--------------------+--------------------+--------------+-------------+\n",
      "|                  id|      asin|class|helpfulTotalRatio|productRating|          reviewText| reviewTime|    reviewerID|        reviewerName|             summary|unixReviewTime|reviewUpvotes|\n",
      "+--------------------+----------+-----+-----------------+-------------+--------------------+-----------+--------------+--------------------+--------------------+--------------+-------------+\n",
      "|5a13242d741a2384e...|0439886341|  0.0|            100.0|          3.0|some of the funct...|07 22, 2013|A2WNBOD3WNDNKT|                 JAL|       disappointing|    1374451200|            1|\n",
      "|5a13242d741a2384e...|0132793040|  1.0|            100.0|          5.0|corey barker does...|04 13, 2013| AKM1MP6P0OYPR|Vicki Gibson \"momo4\"|       very thorough|    1365811200|            1|\n",
      "|5a13242d741a2384e...|0321732944|  1.0|              0.0|          5.0|while many beginn...| 07 1, 2012|A2CX7LUOHB2NDG|              Bernie|adobe photoshop c...|    1341100800|            0|\n",
      "|5a13242d741a2384e...|0439886341|  0.0|            100.0|          1.0|it never worked m...|04 29, 2013|A2NWSAGRHCP8N5|         bowmans2007| absolutely horrible|    1367193600|            1|\n",
      "|5a13242d741a2384e...|0439886341|  0.0|            100.0|          1.0|do not waste your...|04 18, 2012|A1GI0U4ZRJA8WN|           Truthfull|terrible dont was...|    1334707200|            4|\n",
      "|5a13242d741a2384e...|0511189877|  1.0|              0.0|          5.0|this unit works j...|03 23, 2014|A34ATBPOK6HCHY|    Nancy C. Johnson|         great piece|    1395532800|            0|\n",
      "|5a13242d741a2384e...|0511189877|  1.0|              0.0|          5.0|it is an exact du...|03 22, 2014| A89DO69P0XZ27|     Stephen Schultz|time warner cable...|    1395446400|            0|\n",
      "|5a13242d741a2384e...|0511189877|  0.0|            100.0|          2.0|this remote for w...|04 14, 2014|A3J3BRHTDRFJ2G|  EJ Honda \"ejhonda\"| ergonomic nightmare|    1397433600|            1|\n",
      "|5a13242d741a2384e...|0511189877|  1.0|              0.0|          5.0|we had an old tim...|03 27, 2014|A2TY0BTJOTENPG|          Johnny Exx|excellent replace...|    1395878400|            0|\n",
      "|5a13242d741a2384e...|0511189877|  1.0|              0.0|          5.0|works on my tv th...|05 29, 2014| AZYNQZ94U6VDB|    Terri L. Pittman|             awesome|    1401321600|            0|\n",
      "|5a13242d741a2384e...|0528881469|  1.0|              0.0|          5.0|love it has every...|07 18, 2014|A1DA3W4GTFXP6O|                NULL|             love it|    1405641600|            0|\n",
      "|5a13242d741a2384e...|0528881469|  0.0|              0.0|          1.0|i have owned two ...| 11 5, 2012|A29LPQQDG7LD5J|      Alfred Delgado|       piece of junk|    1352073600|            0|\n",
      "|5a13242d741a2384e...|0528881469|  1.0|              0.0|          5.0|we got this gps f...| 06 2, 2013| AO94DHGC771SJ|             amazdnu|      gotta have gps|    1370131200|            0|\n",
      "|5a13242d741a2384e...|0511189877|  1.0|              0.0|          5.0|dog got the old r...|04 14, 2014|A1QGNMC6O1VW39|                  CK|works great with ...|    1397433600|            0|\n",
      "|5a13242d741a2384e...|0528881469|  0.0|             80.0|          1.0|im a professional...|11 25, 2010| AMO214LNFCEI4|     Amazon Customer|   very disappointed|    1290643200|           12|\n",
      "|5a13242d741a2384e...|0528881469|  1.0|        95.454544|          4.0|this is a great t...|07 25, 2010|A28B1G1MSJ6OO1|       A. O Sandness|          great unit|    1280016000|           21|\n",
      "|5a13242d741a2384e...|0528881469|  0.0|         95.55556|          3.0|well what can i s...| 09 9, 2010|A3N7T0DY83Y4IG|       C. A. Freeman|      1st impression|    1283990400|           43|\n",
      "|5a13242d741a2384e...|0528881469|  1.0|            100.0|          4.0|this unit is a fa...|01 12, 2011|A265MKAR2WEH3Y|          doublebunk|trucker gps as a ...|    1294790400|            1|\n",
      "|5a13242d741a2384e...|0528881469|  0.0|           71.875|          2.0|my brother is a t...|06 21, 2010| A2CPBQ5W4OGBX|Dclownfish03 \"Dcl...|new gps doesnt wo...|    1277078400|           23|\n",
      "|5a13242d741a2384e...|0528881469|  0.0|             90.0|          2.0|not going to writ...|11 24, 2010|A1H8PY3QHMQQA0|Dave M. Shaw \"mac...|great grafics poo...|    1290556800|            9|\n",
      "+--------------------+----------+-----+-----------------+-------------+--------------------+-----------+--------------+--------------------+--------------------+--------------+-------------+\n",
      "only showing top 20 rows\n",
      "\n"
     ]
    }
   ],
   "source": [
    "cleaned_df.show()"
   ]
  },
  {
   "cell_type": "markdown",
   "id": "0324a15b",
   "metadata": {},
   "source": [
    "<h1>MACHINE LEARNING ALGORITHMS</h1>"
   ]
  },
  {
   "cell_type": "markdown",
   "id": "cf97cb12",
   "metadata": {},
   "source": [
    "<h2>LOGISTIC REGRESSION</h2>"
   ]
  },
  {
   "cell_type": "code",
   "execution_count": 16,
   "id": "3cafdee3",
   "metadata": {},
   "outputs": [
    {
     "name": "stderr",
     "output_type": "stream",
     "text": [
      "24/04/01 12:24:39 WARN DAGScheduler: Broadcasting large task binary with size 4.1 MiB\n",
      "24/04/01 12:26:44 WARN DAGScheduler: Broadcasting large task binary with size 4.1 MiB\n",
      "24/04/01 12:26:45 WARN InstanceBuilder: Failed to load implementation from:dev.ludovic.netlib.blas.JNIBLAS\n",
      "24/04/01 12:26:45 WARN DAGScheduler: Broadcasting large task binary with size 4.1 MiB\n",
      "24/04/01 12:32:56 WARN DAGScheduler: Broadcasting large task binary with size 4.1 MiB\n",
      "24/04/01 12:32:57 WARN DAGScheduler: Broadcasting large task binary with size 4.1 MiB\n",
      "24/04/01 12:33:05 WARN DAGScheduler: Broadcasting large task binary with size 4.1 MiB\n",
      "24/04/01 12:33:08 WARN DAGScheduler: Broadcasting large task binary with size 4.1 MiB\n",
      "24/04/01 12:33:17 WARN DAGScheduler: Broadcasting large task binary with size 4.1 MiB\n",
      "24/04/01 12:33:18 WARN DAGScheduler: Broadcasting large task binary with size 4.1 MiB\n",
      "24/04/01 12:33:30 WARN DAGScheduler: Broadcasting large task binary with size 4.1 MiB\n",
      "24/04/01 12:33:34 WARN DAGScheduler: Broadcasting large task binary with size 4.1 MiB\n",
      "24/04/01 12:33:43 WARN DAGScheduler: Broadcasting large task binary with size 4.1 MiB\n",
      "24/04/01 12:33:45 WARN DAGScheduler: Broadcasting large task binary with size 4.1 MiB\n",
      "24/04/01 12:33:59 WARN DAGScheduler: Broadcasting large task binary with size 4.1 MiB\n",
      "24/04/01 12:34:01 WARN DAGScheduler: Broadcasting large task binary with size 4.1 MiB\n",
      "24/04/01 12:34:15 WARN DAGScheduler: Broadcasting large task binary with size 4.1 MiB\n",
      "24/04/01 12:34:17 WARN DAGScheduler: Broadcasting large task binary with size 4.1 MiB\n",
      "24/04/01 12:34:28 WARN DAGScheduler: Broadcasting large task binary with size 4.1 MiB\n",
      "24/04/01 12:34:30 WARN DAGScheduler: Broadcasting large task binary with size 4.1 MiB\n",
      "24/04/01 12:34:43 WARN DAGScheduler: Broadcasting large task binary with size 4.1 MiB\n",
      "24/04/01 12:34:46 WARN DAGScheduler: Broadcasting large task binary with size 4.1 MiB\n",
      "24/04/01 12:35:01 WARN DAGScheduler: Broadcasting large task binary with size 4.1 MiB\n",
      "24/04/01 12:35:03 WARN DAGScheduler: Broadcasting large task binary with size 4.1 MiB\n",
      "24/04/01 12:35:19 WARN DAGScheduler: Broadcasting large task binary with size 4.1 MiB\n",
      "24/04/01 12:35:23 WARN DAGScheduler: Broadcasting large task binary with size 4.1 MiB\n",
      "24/04/01 12:35:34 WARN DAGScheduler: Broadcasting large task binary with size 4.1 MiB\n",
      "24/04/01 12:35:39 WARN DAGScheduler: Broadcasting large task binary with size 4.1 MiB\n",
      "24/04/01 12:35:47 WARN DAGScheduler: Broadcasting large task binary with size 4.1 MiB\n",
      "24/04/01 12:35:49 WARN DAGScheduler: Broadcasting large task binary with size 4.1 MiB\n",
      "24/04/01 12:35:59 WARN DAGScheduler: Broadcasting large task binary with size 4.1 MiB\n",
      "24/04/01 12:36:02 WARN DAGScheduler: Broadcasting large task binary with size 4.1 MiB\n",
      "24/04/01 12:36:16 WARN DAGScheduler: Broadcasting large task binary with size 4.1 MiB\n",
      "24/04/01 12:36:21 WARN DAGScheduler: Broadcasting large task binary with size 4.1 MiB\n",
      "24/04/01 12:36:34 WARN DAGScheduler: Broadcasting large task binary with size 4.1 MiB\n",
      "24/04/01 12:36:37 WARN DAGScheduler: Broadcasting large task binary with size 4.1 MiB\n",
      "24/04/01 12:36:52 WARN DAGScheduler: Broadcasting large task binary with size 4.1 MiB\n",
      "24/04/01 12:36:56 WARN DAGScheduler: Broadcasting large task binary with size 4.1 MiB\n",
      "24/04/01 12:37:13 WARN DAGScheduler: Broadcasting large task binary with size 4.1 MiB\n",
      "24/04/01 12:37:17 WARN DAGScheduler: Broadcasting large task binary with size 4.1 MiB\n",
      "24/04/01 12:37:32 WARN DAGScheduler: Broadcasting large task binary with size 4.1 MiB\n",
      "24/04/01 12:37:35 WARN DAGScheduler: Broadcasting large task binary with size 4.1 MiB\n",
      "24/04/01 12:37:50 WARN DAGScheduler: Broadcasting large task binary with size 4.1 MiB\n",
      "24/04/01 12:37:53 WARN DAGScheduler: Broadcasting large task binary with size 4.1 MiB\n",
      "24/04/01 12:38:05 WARN DAGScheduler: Broadcasting large task binary with size 4.1 MiB\n",
      "24/04/01 12:38:07 WARN DAGScheduler: Broadcasting large task binary with size 4.1 MiB\n",
      "24/04/01 12:38:18 WARN DAGScheduler: Broadcasting large task binary with size 4.1 MiB\n",
      "24/04/01 12:38:22 WARN DAGScheduler: Broadcasting large task binary with size 4.1 MiB\n",
      "24/04/01 12:38:33 WARN DAGScheduler: Broadcasting large task binary with size 4.1 MiB\n",
      "24/04/01 12:38:39 WARN DAGScheduler: Broadcasting large task binary with size 4.1 MiB\n",
      "24/04/01 12:38:53 WARN DAGScheduler: Broadcasting large task binary with size 4.1 MiB\n",
      "24/04/01 12:38:55 WARN DAGScheduler: Broadcasting large task binary with size 4.1 MiB\n",
      "24/04/01 12:39:09 WARN DAGScheduler: Broadcasting large task binary with size 4.1 MiB\n",
      "24/04/01 12:39:12 WARN DAGScheduler: Broadcasting large task binary with size 4.1 MiB\n",
      "24/04/01 12:39:25 WARN DAGScheduler: Broadcasting large task binary with size 4.1 MiB\n",
      "24/04/01 12:39:27 WARN DAGScheduler: Broadcasting large task binary with size 4.1 MiB\n",
      "24/04/01 12:39:44 WARN DAGScheduler: Broadcasting large task binary with size 4.1 MiB\n",
      "24/04/01 12:39:47 WARN DAGScheduler: Broadcasting large task binary with size 4.1 MiB\n",
      "24/04/01 12:40:03 WARN DAGScheduler: Broadcasting large task binary with size 4.1 MiB\n",
      "24/04/01 12:40:06 WARN DAGScheduler: Broadcasting large task binary with size 4.1 MiB\n",
      "24/04/01 12:40:21 WARN DAGScheduler: Broadcasting large task binary with size 4.1 MiB\n",
      "24/04/01 12:40:23 WARN DAGScheduler: Broadcasting large task binary with size 4.1 MiB\n",
      "24/04/01 12:40:36 WARN DAGScheduler: Broadcasting large task binary with size 4.1 MiB\n",
      "24/04/01 12:40:41 WARN DAGScheduler: Broadcasting large task binary with size 4.1 MiB\n",
      "24/04/01 12:40:55 WARN DAGScheduler: Broadcasting large task binary with size 4.1 MiB\n",
      "24/04/01 12:40:59 WARN DAGScheduler: Broadcasting large task binary with size 4.1 MiB\n",
      "24/04/01 12:41:09 WARN DAGScheduler: Broadcasting large task binary with size 4.1 MiB\n",
      "24/04/01 12:41:12 WARN DAGScheduler: Broadcasting large task binary with size 4.1 MiB\n",
      "24/04/01 12:41:24 WARN DAGScheduler: Broadcasting large task binary with size 4.1 MiB\n",
      "24/04/01 12:41:26 WARN DAGScheduler: Broadcasting large task binary with size 4.1 MiB\n",
      "24/04/01 12:41:38 WARN DAGScheduler: Broadcasting large task binary with size 4.1 MiB\n",
      "24/04/01 12:41:40 WARN DAGScheduler: Broadcasting large task binary with size 4.1 MiB\n",
      "24/04/01 12:41:48 WARN DAGScheduler: Broadcasting large task binary with size 4.1 MiB\n",
      "24/04/01 12:41:53 WARN DAGScheduler: Broadcasting large task binary with size 4.1 MiB\n",
      "24/04/01 12:42:07 WARN DAGScheduler: Broadcasting large task binary with size 4.1 MiB\n",
      "24/04/01 12:42:11 WARN DAGScheduler: Broadcasting large task binary with size 4.1 MiB\n",
      "24/04/01 12:42:22 WARN DAGScheduler: Broadcasting large task binary with size 4.1 MiB\n",
      "24/04/01 12:42:24 WARN DAGScheduler: Broadcasting large task binary with size 4.1 MiB\n",
      "24/04/01 12:42:33 WARN DAGScheduler: Broadcasting large task binary with size 4.1 MiB\n",
      "24/04/01 12:42:37 WARN DAGScheduler: Broadcasting large task binary with size 4.1 MiB\n",
      "24/04/01 12:42:49 WARN DAGScheduler: Broadcasting large task binary with size 4.1 MiB\n",
      "24/04/01 12:42:54 WARN DAGScheduler: Broadcasting large task binary with size 4.1 MiB\n",
      "24/04/01 12:43:07 WARN DAGScheduler: Broadcasting large task binary with size 4.1 MiB\n",
      "24/04/01 12:43:10 WARN DAGScheduler: Broadcasting large task binary with size 4.1 MiB\n",
      "24/04/01 12:43:20 WARN DAGScheduler: Broadcasting large task binary with size 4.1 MiB\n",
      "24/04/01 12:43:22 WARN DAGScheduler: Broadcasting large task binary with size 4.1 MiB\n",
      "24/04/01 12:43:30 WARN DAGScheduler: Broadcasting large task binary with size 4.1 MiB\n",
      "24/04/01 12:43:30 WARN DAGScheduler: Broadcasting large task binary with size 4.1 MiB\n",
      "24/04/01 12:43:37 WARN DAGScheduler: Broadcasting large task binary with size 4.1 MiB\n",
      "24/04/01 12:43:40 WARN DAGScheduler: Broadcasting large task binary with size 4.1 MiB\n",
      "24/04/01 12:43:52 WARN DAGScheduler: Broadcasting large task binary with size 4.1 MiB\n",
      "24/04/01 12:43:58 WARN DAGScheduler: Broadcasting large task binary with size 4.1 MiB\n",
      "24/04/01 12:44:06 WARN DAGScheduler: Broadcasting large task binary with size 4.1 MiB\n",
      "24/04/01 12:44:08 WARN DAGScheduler: Broadcasting large task binary with size 4.1 MiB\n",
      "24/04/01 12:44:17 WARN DAGScheduler: Broadcasting large task binary with size 4.1 MiB\n"
     ]
    },
    {
     "name": "stderr",
     "output_type": "stream",
     "text": [
      "24/04/01 12:44:18 WARN DAGScheduler: Broadcasting large task binary with size 4.1 MiB\n",
      "24/04/01 12:44:27 WARN DAGScheduler: Broadcasting large task binary with size 4.1 MiB\n",
      "24/04/01 12:44:29 WARN DAGScheduler: Broadcasting large task binary with size 4.1 MiB\n",
      "24/04/01 12:44:43 WARN DAGScheduler: Broadcasting large task binary with size 4.1 MiB\n",
      "24/04/01 12:44:46 WARN DAGScheduler: Broadcasting large task binary with size 4.1 MiB\n",
      "24/04/01 12:44:55 WARN DAGScheduler: Broadcasting large task binary with size 4.1 MiB\n",
      "24/04/01 12:44:56 WARN DAGScheduler: Broadcasting large task binary with size 4.1 MiB\n",
      "24/04/01 12:45:05 WARN DAGScheduler: Broadcasting large task binary with size 4.1 MiB\n",
      "24/04/01 12:45:10 WARN DAGScheduler: Broadcasting large task binary with size 4.1 MiB\n",
      "24/04/01 12:45:30 WARN DAGScheduler: Broadcasting large task binary with size 4.1 MiB\n",
      "24/04/01 12:45:32 WARN DAGScheduler: Broadcasting large task binary with size 4.1 MiB\n",
      "24/04/01 12:45:44 WARN DAGScheduler: Broadcasting large task binary with size 4.1 MiB\n",
      "24/04/01 12:45:47 WARN DAGScheduler: Broadcasting large task binary with size 4.1 MiB\n",
      "24/04/01 12:46:00 WARN DAGScheduler: Broadcasting large task binary with size 4.1 MiB\n",
      "24/04/01 12:46:04 WARN DAGScheduler: Broadcasting large task binary with size 4.1 MiB\n",
      "24/04/01 12:46:19 WARN DAGScheduler: Broadcasting large task binary with size 4.1 MiB\n",
      "24/04/01 12:46:23 WARN DAGScheduler: Broadcasting large task binary with size 4.1 MiB\n",
      "24/04/01 12:46:38 WARN DAGScheduler: Broadcasting large task binary with size 4.1 MiB\n",
      "24/04/01 12:46:41 WARN DAGScheduler: Broadcasting large task binary with size 4.1 MiB\n",
      "24/04/01 12:46:55 WARN DAGScheduler: Broadcasting large task binary with size 4.1 MiB\n",
      "24/04/01 12:46:58 WARN DAGScheduler: Broadcasting large task binary with size 4.1 MiB\n",
      "24/04/01 12:47:16 WARN DAGScheduler: Broadcasting large task binary with size 4.1 MiB\n",
      "24/04/01 12:47:22 WARN DAGScheduler: Broadcasting large task binary with size 4.1 MiB\n",
      "24/04/01 12:47:36 WARN DAGScheduler: Broadcasting large task binary with size 4.1 MiB\n",
      "24/04/01 12:47:39 WARN DAGScheduler: Broadcasting large task binary with size 4.1 MiB\n",
      "24/04/01 12:47:51 WARN DAGScheduler: Broadcasting large task binary with size 4.1 MiB\n",
      "24/04/01 12:47:57 WARN DAGScheduler: Broadcasting large task binary with size 4.1 MiB\n",
      "24/04/01 12:48:17 WARN DAGScheduler: Broadcasting large task binary with size 4.1 MiB\n",
      "24/04/01 12:48:21 WARN DAGScheduler: Broadcasting large task binary with size 4.1 MiB\n",
      "24/04/01 12:48:38 WARN DAGScheduler: Broadcasting large task binary with size 4.1 MiB\n",
      "24/04/01 12:48:41 WARN DAGScheduler: Broadcasting large task binary with size 4.1 MiB\n",
      "24/04/01 12:48:59 WARN DAGScheduler: Broadcasting large task binary with size 4.1 MiB\n",
      "24/04/01 12:49:05 WARN DAGScheduler: Broadcasting large task binary with size 4.1 MiB\n",
      "24/04/01 12:49:21 WARN DAGScheduler: Broadcasting large task binary with size 4.1 MiB\n",
      "24/04/01 12:49:26 WARN DAGScheduler: Broadcasting large task binary with size 4.1 MiB\n",
      "24/04/01 12:49:48 WARN DAGScheduler: Broadcasting large task binary with size 4.1 MiB\n",
      "24/04/01 12:49:51 WARN DAGScheduler: Broadcasting large task binary with size 4.1 MiB\n",
      "24/04/01 12:50:05 WARN DAGScheduler: Broadcasting large task binary with size 4.1 MiB\n",
      "24/04/01 12:50:08 WARN DAGScheduler: Broadcasting large task binary with size 4.1 MiB\n",
      "24/04/01 12:50:25 WARN DAGScheduler: Broadcasting large task binary with size 4.1 MiB\n",
      "24/04/01 12:50:29 WARN DAGScheduler: Broadcasting large task binary with size 4.1 MiB\n",
      "24/04/01 12:50:48 WARN DAGScheduler: Broadcasting large task binary with size 4.1 MiB\n",
      "24/04/01 12:50:52 WARN DAGScheduler: Broadcasting large task binary with size 4.1 MiB\n",
      "24/04/01 12:51:04 WARN DAGScheduler: Broadcasting large task binary with size 4.1 MiB\n",
      "24/04/01 12:51:07 WARN DAGScheduler: Broadcasting large task binary with size 4.1 MiB\n",
      "24/04/01 12:51:17 WARN DAGScheduler: Broadcasting large task binary with size 4.1 MiB\n",
      "24/04/01 12:51:20 WARN DAGScheduler: Broadcasting large task binary with size 4.1 MiB\n",
      "24/04/01 12:51:38 WARN DAGScheduler: Broadcasting large task binary with size 4.1 MiB\n",
      "24/04/01 12:51:44 WARN DAGScheduler: Broadcasting large task binary with size 4.1 MiB\n",
      "24/04/01 12:52:02 WARN DAGScheduler: Broadcasting large task binary with size 4.1 MiB\n",
      "24/04/01 12:52:05 WARN DAGScheduler: Broadcasting large task binary with size 4.1 MiB\n",
      "24/04/01 12:52:17 WARN DAGScheduler: Broadcasting large task binary with size 4.1 MiB\n",
      "24/04/01 12:52:21 WARN DAGScheduler: Broadcasting large task binary with size 4.1 MiB\n",
      "24/04/01 12:52:37 WARN DAGScheduler: Broadcasting large task binary with size 4.1 MiB\n",
      "24/04/01 12:52:54 WARN DAGScheduler: Broadcasting large task binary with size 4.1 MiB\n",
      "24/04/01 12:53:07 WARN DAGScheduler: Broadcasting large task binary with size 4.1 MiB\n",
      "24/04/01 12:53:10 WARN DAGScheduler: Broadcasting large task binary with size 4.1 MiB\n",
      "24/04/01 12:53:21 WARN DAGScheduler: Broadcasting large task binary with size 4.1 MiB\n",
      "24/04/01 12:53:25 WARN DAGScheduler: Broadcasting large task binary with size 4.1 MiB\n",
      "24/04/01 12:53:41 WARN DAGScheduler: Broadcasting large task binary with size 4.1 MiB\n",
      "24/04/01 12:53:46 WARN DAGScheduler: Broadcasting large task binary with size 4.1 MiB\n",
      "24/04/01 12:54:05 WARN DAGScheduler: Broadcasting large task binary with size 4.1 MiB\n",
      "24/04/01 12:54:09 WARN DAGScheduler: Broadcasting large task binary with size 4.1 MiB\n",
      "24/04/01 12:54:25 WARN DAGScheduler: Broadcasting large task binary with size 4.1 MiB\n",
      "24/04/01 12:54:27 WARN DAGScheduler: Broadcasting large task binary with size 4.1 MiB\n",
      "24/04/01 12:54:41 WARN DAGScheduler: Broadcasting large task binary with size 4.1 MiB\n",
      "24/04/01 12:54:45 WARN DAGScheduler: Broadcasting large task binary with size 4.1 MiB\n",
      "24/04/01 12:55:03 WARN DAGScheduler: Broadcasting large task binary with size 4.1 MiB\n",
      "24/04/01 12:55:08 WARN DAGScheduler: Broadcasting large task binary with size 4.1 MiB\n",
      "24/04/01 12:55:29 WARN DAGScheduler: Broadcasting large task binary with size 4.1 MiB\n",
      "24/04/01 12:55:32 WARN DAGScheduler: Broadcasting large task binary with size 4.1 MiB\n",
      "24/04/01 12:55:49 WARN DAGScheduler: Broadcasting large task binary with size 4.1 MiB\n",
      "24/04/01 12:55:53 WARN DAGScheduler: Broadcasting large task binary with size 4.1 MiB\n",
      "24/04/01 12:56:08 WARN DAGScheduler: Broadcasting large task binary with size 4.1 MiB\n",
      "24/04/01 12:56:10 WARN DAGScheduler: Broadcasting large task binary with size 4.1 MiB\n",
      "24/04/01 12:56:24 WARN DAGScheduler: Broadcasting large task binary with size 4.1 MiB\n",
      "24/04/01 12:56:28 WARN DAGScheduler: Broadcasting large task binary with size 4.1 MiB\n",
      "24/04/01 12:56:49 WARN DAGScheduler: Broadcasting large task binary with size 4.1 MiB\n",
      "24/04/01 12:56:53 WARN DAGScheduler: Broadcasting large task binary with size 4.1 MiB\n",
      "24/04/01 12:57:07 WARN DAGScheduler: Broadcasting large task binary with size 4.1 MiB\n",
      "24/04/01 12:57:11 WARN DAGScheduler: Broadcasting large task binary with size 4.1 MiB\n",
      "24/04/01 12:57:30 WARN DAGScheduler: Broadcasting large task binary with size 4.1 MiB\n",
      "24/04/01 12:57:36 WARN DAGScheduler: Broadcasting large task binary with size 4.1 MiB\n",
      "24/04/01 12:57:54 WARN DAGScheduler: Broadcasting large task binary with size 4.1 MiB\n",
      "24/04/01 12:57:59 WARN DAGScheduler: Broadcasting large task binary with size 4.1 MiB\n",
      "24/04/01 12:58:14 WARN DAGScheduler: Broadcasting large task binary with size 4.1 MiB\n",
      "24/04/01 12:58:16 WARN DAGScheduler: Broadcasting large task binary with size 4.1 MiB\n",
      "24/04/01 12:58:31 WARN DAGScheduler: Broadcasting large task binary with size 4.1 MiB\n",
      "24/04/01 12:58:34 WARN DAGScheduler: Broadcasting large task binary with size 4.1 MiB\n",
      "24/04/01 12:58:50 WARN DAGScheduler: Broadcasting large task binary with size 4.1 MiB\n",
      "24/04/01 12:58:53 WARN DAGScheduler: Broadcasting large task binary with size 4.1 MiB\n",
      "24/04/01 12:59:07 WARN DAGScheduler: Broadcasting large task binary with size 4.1 MiB\n",
      "24/04/01 12:59:12 WARN DAGScheduler: Broadcasting large task binary with size 4.1 MiB\n",
      "24/04/01 12:59:30 WARN DAGScheduler: Broadcasting large task binary with size 4.1 MiB\n",
      "24/04/01 12:59:32 WARN DAGScheduler: Broadcasting large task binary with size 4.1 MiB\n"
     ]
    },
    {
     "name": "stderr",
     "output_type": "stream",
     "text": [
      "24/04/01 12:59:51 WARN DAGScheduler: Broadcasting large task binary with size 4.1 MiB\n",
      "24/04/01 12:59:57 WARN DAGScheduler: Broadcasting large task binary with size 4.1 MiB\n",
      "24/04/01 13:00:13 WARN DAGScheduler: Broadcasting large task binary with size 4.1 MiB\n",
      "24/04/01 13:00:19 WARN DAGScheduler: Broadcasting large task binary with size 4.1 MiB\n",
      "24/04/01 13:00:38 WARN DAGScheduler: Broadcasting large task binary with size 4.1 MiB\n",
      "24/04/01 13:00:42 WARN DAGScheduler: Broadcasting large task binary with size 4.1 MiB\n",
      "24/04/01 13:00:55 WARN DAGScheduler: Broadcasting large task binary with size 4.1 MiB\n",
      "24/04/01 13:00:58 WARN DAGScheduler: Broadcasting large task binary with size 4.1 MiB\n",
      "24/04/01 13:01:06 WARN DAGScheduler: Broadcasting large task binary with size 4.1 MiB\n",
      "24/04/01 13:01:10 WARN DAGScheduler: Broadcasting large task binary with size 4.1 MiB\n",
      "24/04/01 13:01:18 WARN DAGScheduler: Broadcasting large task binary with size 4.1 MiB\n",
      "24/04/01 13:01:22 WARN DAGScheduler: Broadcasting large task binary with size 4.1 MiB\n",
      "24/04/01 13:01:36 WARN DAGScheduler: Broadcasting large task binary with size 4.1 MiB\n",
      "24/04/01 13:01:41 WARN DAGScheduler: Broadcasting large task binary with size 4.1 MiB\n",
      "24/04/01 13:01:53 WARN DAGScheduler: Broadcasting large task binary with size 4.1 MiB\n",
      "24/04/01 13:01:58 WARN DAGScheduler: Broadcasting large task binary with size 4.1 MiB\n",
      "24/04/01 13:02:10 WARN DAGScheduler: Broadcasting large task binary with size 4.1 MiB\n",
      "                                                                                \r"
     ]
    }
   ],
   "source": [
    "from pyspark.ml.feature import Tokenizer, StopWordsRemover, HashingTF, IDF\n",
    "from pyspark.ml.classification import LogisticRegression\n",
    "from pyspark.ml import Pipeline\n",
    "\n",
    "# Preprocess the data\n",
    "tokenizer = Tokenizer(inputCol=\"reviewText\", outputCol=\"tokens\")\n",
    "remover = StopWordsRemover(inputCol=\"tokens\", outputCol=\"filtered_tokens\")\n",
    "hashingTF = HashingTF(inputCol=\"filtered_tokens\", outputCol=\"rawFeatures\")\n",
    "idf = IDF(inputCol=\"rawFeatures\", outputCol=\"features\")\n",
    "\n",
    "# Build the logistic regression model\n",
    "lr = LogisticRegression(labelCol=\"class\")\n",
    "\n",
    "# Construct the pipeline\n",
    "pipeline = Pipeline(stages=[tokenizer, remover, hashingTF, idf, lr])\n",
    "\n",
    "# Train the model\n",
    "model = pipeline.fit(cleaned_df)\n",
    "\n",
    "# Predict on the whole dataset\n",
    "predictions = model.transform(cleaned_df)"
   ]
  },
  {
   "cell_type": "markdown",
   "id": "b493c567",
   "metadata": {},
   "source": [
    "<h2>EVALUATION</h2>"
   ]
  },
  {
   "cell_type": "code",
   "execution_count": 17,
   "id": "3d9ed038",
   "metadata": {},
   "outputs": [
    {
     "name": "stderr",
     "output_type": "stream",
     "text": [
      "/Users/sandeepmunagala/anaconda3/lib/python3.10/site-packages/pyspark/sql/context.py:158: FutureWarning: Deprecated in 3.0.0. Use SparkSession.builder.getOrCreate() instead.\n",
      "  warnings.warn(\n",
      "24/04/01 13:02:16 WARN DAGScheduler: Broadcasting large task binary with size 6.1 MiB\n",
      "/Users/sandeepmunagala/anaconda3/lib/python3.10/site-packages/pandas/core/arrays/masked.py:60: UserWarning: Pandas requires version '1.3.6' or newer of 'bottleneck' (version '1.3.5' currently installed).\n",
      "  from pandas.core import (\n",
      "24/04/01 13:02:19 WARN DAGScheduler: Broadcasting large task binary with size 6.1 MiB\n",
      "                                                                                \r"
     ]
    }
   ],
   "source": [
    "from pyspark.mllib.evaluation import MulticlassMetrics\n",
    "\n",
    "# Convert DataFrame column type from vector to float\n",
    "predictionAndLabel = predictions.select(\"prediction\", \"class\").rdd.map(lambda x: (float(x[0]), float(x[1])))\n",
    "\n",
    "# Instantiate metrics object\n",
    "metrics = MulticlassMetrics(predictionAndLabel)\n",
    "\n",
    "# Get confusion matrix\n",
    "confusion_matrix = metrics.confusionMatrix().toArray()"
   ]
  },
  {
   "cell_type": "markdown",
   "id": "d4353b63",
   "metadata": {},
   "source": [
    "<h2>create a heatmap visualization of a confusion matrix.</h2>"
   ]
  },
  {
   "cell_type": "code",
   "execution_count": 20,
   "id": "4e73e36f",
   "metadata": {},
   "outputs": [
    {
     "data": {
      "image/png": "[encoded data removed]",
      "text/plain": [
       "<Figure size 1000x700 with 2 Axes>"
      ]
     },
     "metadata": {},
     "output_type": "display_data"
    }
   ],
   "source": [
    "import seaborn as sns\n",
    "import matplotlib.pyplot as plt\n",
    "\n",
    "# Plot confusion matrix\n",
    "plt.figure(figsize=(10,7))\n",
    "sns.heatmap(confusion_matrix, annot=True, fmt=\".0f\")\n",
    "plt.xlabel('Predicted')\n",
    "plt.ylabel('Actual')\n",
    "plt.show()"
   ]
  },
  {
   "cell_type": "code",
   "execution_count": null,
   "id": "6b823552",
   "metadata": {},
   "outputs": [],
   "source": []
  }
 ],
 "metadata": {
  "kernelspec": {
   "display_name": "Python 3 (ipykernel)",
   "language": "python",
   "name": "python3"
  },
  "language_info": {
   "codemirror_mode": {
    "name": "ipython",
    "version": 3
   },
   "file_extension": ".py",
   "mimetype": "text/x-python",
   "name": "python",
   "nbconvert_exporter": "python",
   "pygments_lexer": "ipython3",
   "version": "3.10.9"
  }
 },
 "nbformat": 4,
 "nbformat_minor": 5
}
